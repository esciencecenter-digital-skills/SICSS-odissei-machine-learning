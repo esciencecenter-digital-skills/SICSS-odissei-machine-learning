{
 "cells": [
  {
   "cell_type": "markdown",
   "metadata": {},
   "source": [
    "# Resources to learn more\n",
    "\n",
    "Our course:\n",
    "- [SICSS ODISSEI Machine Learning repo](https://github.com/esciencecenter-digital-skills/SICSS-odissei-machine-learning)\n",
    "\n",
    "Other online course:\n",
    "- [Coursera Machine Learning Specialization by Andrew Ng](https://www.coursera.org/specializations/machine-learning-introduction)\n",
    "\n",
    "Book:\n",
    "- [Hands-On Machine Learning with Scikit-Learn, Keras, and TensorFlow, by Aurélien Géron](https://www.oreilly.com/library/view/hands-on-machine-learning/9781098125967/)"
   ]
  }
 ],
 "metadata": {
  "kernelspec": {
   "display_name": "Python 3 (ipykernel)",
   "language": "python",
   "name": "python3"
  },
  "language_info": {
   "codemirror_mode": {
    "name": "ipython",
    "version": 3
   },
   "file_extension": ".py",
   "mimetype": "text/x-python",
   "name": "python",
   "nbconvert_exporter": "python",
   "pygments_lexer": "ipython3",
   "version": "3.9.12"
  }
 },
 "nbformat": 4,
 "nbformat_minor": 4
}
