{
 "cells": [
  {
   "cell_type": "markdown",
   "metadata": {},
   "source": [
    "# To Learn more\n",
    "\n",
    "## Our course:\n",
    "- [SICSS ODISSEI Machine Learning repo](https://github.com/esciencecenter-digital-skills/SICSS-odissei-machine-learning)\n",
    "\n",
    "## Other resources:\n",
    "- [Scikit-learn ML Map](https://scikit-learn.org/stable/_static/ml_map.png)\n",
    "- [Coursera Machine Learning Specialization by Andrew Ng](https://www.coursera.org/specializations/machine-learning-introduction)\n",
    "- [Hands-On Machine Learning with Scikit-Learn, Keras, and TensorFlow, by Aurélien Géron](https://www.oreilly.com/library/view/hands-on-machine-learning/9781098125967/)\n",
    "  - It has a great checklist for doing machine learning project \n",
    "- [Cookiecutter Data Science](https://drivendata.github.io/cookiecutter-data-science/) - A logical, reasonably standardized, but flexible project structure for doing and sharing data science work\n",
    "- [The Turning Way](https://the-turing-way.netlify.app/welcome) - A handbook to reproducible, ethical and collaborative data science\n",
    "- [Deon](https://deon.drivendata.org/) - An ethics checklist for data scientists"
   ]
  },
  {
   "cell_type": "markdown",
   "metadata": {},
   "source": []
  }
 ],
 "metadata": {
  "kernelspec": {
   "display_name": "Python 3.9.12 ('SICSS')",
   "language": "python",
   "name": "python3"
  },
  "language_info": {
   "codemirror_mode": {
    "name": "ipython",
    "version": 3
   },
   "file_extension": ".py",
   "mimetype": "text/x-python",
   "name": "python",
   "nbconvert_exporter": "python",
   "pygments_lexer": "ipython3",
   "version": "3.9.12"
  },
  "vscode": {
   "interpreter": {
    "hash": "8f6e7cc8824496ddf7af1d39ef7d817de46d3bccc47499466cf34f6731e121b1"
   }
  }
 },
 "nbformat": 4,
 "nbformat_minor": 4
}
