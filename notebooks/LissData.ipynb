{
 "cells": [
  {
   "cell_type": "code",
   "execution_count": null,
   "id": "1f7e8868-aa68-4943-b6b6-67bba3532409",
   "metadata": {},
   "outputs": [],
   "source": [
    "import pandas as pd"
   ]
  },
  {
   "cell_type": "code",
   "execution_count": null,
   "id": "0790c80f-743f-4755-b01c-7d53f3600259",
   "metadata": {},
   "outputs": [],
   "source": [
    "df = pd.read_csv('data/liss_train.csv')"
   ]
  },
  {
   "cell_type": "code",
   "execution_count": null,
   "id": "5f0fc16a-8596-445c-ad9c-e6ccf97651fa",
   "metadata": {},
   "outputs": [],
   "source": [
    "df.columns"
   ]
  },
  {
   "cell_type": "code",
   "execution_count": null,
   "id": "3589233d-05e7-4fa2-ae84-4f18f8fb0281",
   "metadata": {},
   "outputs": [],
   "source": [
    "df.head()"
   ]
  },
  {
   "cell_type": "markdown",
   "id": "d579c64b-9a6f-4155-8249-8581e3eecef8",
   "metadata": {},
   "source": [
    "## Feature selection.\n",
    "\n",
    "This needs manual inspection of the codebook and manually selection of features. Some issues:\n",
    "- Categorical features are denoted with numbers\n",
    "- Features on a scale have value 999 for other / unknown\n",
    "- Some features are combinations of other features, but not quite (e.g. status, contract and status.contract)\n",
    "- There are missing values all over the place"
   ]
  },
  {
   "cell_type": "code",
   "execution_count": null,
   "id": "444cb880-5da6-492b-9c99-8eedf1105cff",
   "metadata": {},
   "outputs": [],
   "source": [
    "columns_21 = df.columns[df.columns.str.endswith('21')]\n",
    "columns_21"
   ]
  },
  {
   "cell_type": "code",
   "execution_count": null,
   "id": "70bae18e-a8c2-4bf8-9984-900e4692587d",
   "metadata": {},
   "outputs": [],
   "source": [
    "columns_11 =  df.columns[df.columns.str.endswith('11')]\n",
    "columns_11"
   ]
  },
  {
   "cell_type": "code",
   "execution_count": null,
   "id": "20821cbc-accc-44f5-b532-98722d5471bc",
   "metadata": {},
   "outputs": [],
   "source": [
    "features_11 = df[feature_names]"
   ]
  },
  {
   "cell_type": "code",
   "execution_count": null,
   "id": "9179efa0-dad1-46c6-9794-0517627399d2",
   "metadata": {},
   "outputs": [],
   "source": [
    "features_11.describe()"
   ]
  },
  {
   "cell_type": "code",
   "execution_count": null,
   "id": "ee8044cf-1432-44ec-b026-52682b0ccf01",
   "metadata": {},
   "outputs": [],
   "source": [
    "features.dtypes"
   ]
  },
  {
   "cell_type": "code",
   "execution_count": null,
   "id": "cae7d46d-bec8-4d11-8594-d47134a963d6",
   "metadata": {},
   "outputs": [],
   "source": [
    "features.nunique()"
   ]
  },
  {
   "cell_type": "code",
   "execution_count": null,
   "id": "d4e8fe1c-66cc-4e8e-9222-78ff1c4f4c3e",
   "metadata": {},
   "outputs": [],
   "source": [
    "numerical_features = ['age.11', \n",
    "                      'bruttoinc_imputed.11',\n",
    "                      'financial.satisfaction.11',\n",
    "                      'happiness.11',\n",
    "                      'life.satisfaction.11',\n",
    "                      'social.trust.11',\n",
    "                      'gov.satisfaction.11',\n",
    "                     ]\n",
    "\n",
    "categorical_features = ['contract.11',\n",
    "                        'educ.no.dipl.11',\n",
    "                        'educ.dipl.11',\n",
    "                        'domestic.status.11',\n",
    "                        'civil.status.11',\n",
    "                        'interest.news.11',\n",
    "                        'last.vote.11'\n",
    "                       ]"
   ]
  },
  {
   "cell_type": "code",
   "execution_count": null,
   "id": "19889e62-85fa-4db0-9943-fb0ca9a164a6",
   "metadata": {},
   "outputs": [],
   "source": [
    "df[numerical_features].describe()"
   ]
  },
  {
   "cell_type": "markdown",
   "id": "a539731b-621d-440f-af27-2d6032397188",
   "metadata": {},
   "source": [
    "Replace 999s with NaN:"
   ]
  },
  {
   "cell_type": "code",
   "execution_count": null,
   "id": "64c609b5-dff0-4ecb-ba67-8fea578c3f72",
   "metadata": {},
   "outputs": [],
   "source": [
    "import numpy as np\n",
    "\n",
    "X_num = df[numerical_features]\n",
    "for feat in numerical_features[2:]:\n",
    "    X_num[feat] = X_num[feat].replace(999, np.NaN)"
   ]
  },
  {
   "cell_type": "code",
   "execution_count": null,
   "id": "c57bb695-a5e2-438b-a6a6-36cf861cce5c",
   "metadata": {},
   "outputs": [],
   "source": [
    "X_num.describe()"
   ]
  },
  {
   "cell_type": "markdown",
   "id": "b0c2de54-9677-4096-9ab8-9a02701c7960",
   "metadata": {},
   "source": [
    "## Classification\n",
    "Issues:\n",
    "- Some values status.contract.21 are quite rare\n",
    "- There are missing values in status.contract.21 even though status is known"
   ]
  },
  {
   "cell_type": "code",
   "execution_count": null,
   "id": "11df7c27-c3e6-4440-b3ed-8b8a288e0735",
   "metadata": {},
   "outputs": [],
   "source": [
    "y = df['status.contract.21']"
   ]
  },
  {
   "cell_type": "code",
   "execution_count": null,
   "id": "b7d3a24f-8976-4888-a153-eb8a7c374382",
   "metadata": {},
   "outputs": [],
   "source": [
    "# import seaborn as sns\n",
    "\n",
    "data_plot = X_num.copy()\n",
    "data_plot['status.contract.21'] = df['status.contract.21']\n",
    "sns.pairplot(data_plot, hue='status.contract.21')"
   ]
  },
  {
   "cell_type": "code",
   "execution_count": null,
   "id": "aba27108-dfae-444d-ac26-afa3d5d4bc3f",
   "metadata": {},
   "outputs": [],
   "source": [
    "y.describe()"
   ]
  },
  {
   "cell_type": "code",
   "execution_count": null,
   "id": "bbdbfe3c-49f5-4f5e-b80b-f955f38144f7",
   "metadata": {},
   "outputs": [],
   "source": [
    "y.value_counts(dropna=False)"
   ]
  },
  {
   "cell_type": "code",
   "execution_count": null,
   "id": "da4b664f-23cc-4cfd-95e2-753fece66dc5",
   "metadata": {},
   "outputs": [],
   "source": [
    "# Replace unknowns in target\n",
    "y = y.fillna('unknown')"
   ]
  },
  {
   "cell_type": "code",
   "execution_count": null,
   "id": "7756abb2-d015-41f7-bdd7-d0d2d49b0801",
   "metadata": {},
   "outputs": [],
   "source": [
    "# Some classes are quite rare. Combine these\n",
    "df['status.21'].value_counts(dropna=False)"
   ]
  },
  {
   "cell_type": "code",
   "execution_count": null,
   "id": "a40e7223-7980-44b0-8201-d05937529ec3",
   "metadata": {},
   "outputs": [],
   "source": [
    "df.fillna('unknown').groupby(['status.21', 'status.contract.21']).count()['age.21']"
   ]
  },
  {
   "cell_type": "markdown",
   "id": "3a0f4413-fb77-4402-98aa-aca24618a580",
   "metadata": {},
   "source": [
    "For now we only take the status as target"
   ]
  },
  {
   "cell_type": "code",
   "execution_count": null,
   "id": "1f840c49-f009-4ca2-abd4-dff2b8288695",
   "metadata": {},
   "outputs": [],
   "source": [
    "y = df['status.21']"
   ]
  },
  {
   "cell_type": "code",
   "execution_count": null,
   "id": "00baf2b7-f322-42e3-8ca5-41a78d4daca7",
   "metadata": {},
   "outputs": [],
   "source": [
    "# Split train test\n",
    "from sklearn.model_selection import train_test_split"
   ]
  },
  {
   "cell_type": "code",
   "execution_count": null,
   "id": "9766307b-3a22-4254-8ac6-956b0965e805",
   "metadata": {},
   "outputs": [],
   "source": [
    "X_train, X_test, y_train, y_test = train_test_split(X_num, y, test_size=0.1, random_state=0)"
   ]
  },
  {
   "cell_type": "markdown",
   "id": "41f9da23-9c80-4879-95bf-13f81a14e2d9",
   "metadata": {},
   "source": [
    "Let's use the HistGradientBoosting classifier, it automatically handles missing values."
   ]
  },
  {
   "cell_type": "code",
   "execution_count": null,
   "id": "5aba5cfa-7f8b-4b87-aa1f-ccb3f4f63dea",
   "metadata": {},
   "outputs": [],
   "source": [
    "from sklearn.ensemble import HistGradientBoostingClassifier"
   ]
  },
  {
   "cell_type": "code",
   "execution_count": null,
   "id": "ae43d229-75cb-4050-8f27-3b4a8eb4fb7a",
   "metadata": {},
   "outputs": [],
   "source": [
    "cls = HistGradientBoostingClassifier()"
   ]
  },
  {
   "cell_type": "code",
   "execution_count": null,
   "id": "ba4dd9c2-1a56-4cdf-9a4e-99a62dad1fe2",
   "metadata": {},
   "outputs": [],
   "source": [
    "cls.fit(X_train, y_train)"
   ]
  },
  {
   "cell_type": "code",
   "execution_count": null,
   "id": "6d4f3777-6e14-420d-ba3f-83213cadf93e",
   "metadata": {},
   "outputs": [],
   "source": [
    "from sklearn.metrics import ConfusionMatrixDisplay\n",
    "\n",
    "ConfusionMatrixDisplay.from_estimator(cls, X_test, y_test)"
   ]
  },
  {
   "cell_type": "code",
   "execution_count": null,
   "id": "10e8015b-7f71-46d9-9ae4-fe8f693017d8",
   "metadata": {},
   "outputs": [],
   "source": [
    "import sklearn.metrics\n",
    "\n",
    "y_test_pred = cls.predict(X_test)\n",
    "\n",
    "print(sklearn.metrics.classification_report(y_test, y_test_pred))"
   ]
  },
  {
   "cell_type": "markdown",
   "id": "8dbfcb9e-2af4-4916-8a5b-7c1633eea013",
   "metadata": {},
   "source": [
    "## Regression\n",
    "Choose income as target. Issues here:\n",
    "- Target is sometimes missing"
   ]
  },
  {
   "cell_type": "code",
   "execution_count": null,
   "id": "0a1622ad-efe6-4f97-ac54-032da6d39e9b",
   "metadata": {},
   "outputs": [],
   "source": [
    "# the target is sometimes missing, remove those rows\n",
    "df_sub = df[~pd.isna(df['bruttoinc_imputed.21'])]\n",
    "\n",
    "y_r = df_sub['bruttoinc_imputed.21']\n",
    "\n",
    "# Select the numerical features\n",
    "X_num = df_sub[numerical_features]\n",
    "for feat in numerical_features[2:]:\n",
    "    X_num[feat] = X_num[feat].replace(999, np.NaN)"
   ]
  },
  {
   "cell_type": "code",
   "execution_count": null,
   "id": "6ad1d744-fc04-4345-97d6-1cb0aefa94f0",
   "metadata": {},
   "outputs": [],
   "source": [
    "X_train, X_test, y_train, y_test = train_test_split(X_num, y_r, test_size=0.1, random_state=0)"
   ]
  },
  {
   "cell_type": "code",
   "execution_count": null,
   "id": "70a0ac20-c47e-45c2-8ba1-f1428e16af32",
   "metadata": {},
   "outputs": [],
   "source": [
    "from sklearn.ensemble import HistGradientBoostingRegressor"
   ]
  },
  {
   "cell_type": "code",
   "execution_count": null,
   "id": "b8df43ce-97f1-46b5-939e-f3eddf312e26",
   "metadata": {},
   "outputs": [],
   "source": [
    "est = HistGradientBoostingRegressor().fit(X_train, y_train)"
   ]
  },
  {
   "cell_type": "code",
   "execution_count": null,
   "id": "9968222c-ba8f-43c1-95e3-ac820e23ec35",
   "metadata": {},
   "outputs": [],
   "source": [
    "print('train: ', est.score(X_train, y_train))\n",
    "print('test: ', est.score(X_test, y_test))"
   ]
  },
  {
   "cell_type": "code",
   "execution_count": null,
   "id": "fb54a51a-902e-431e-bc54-2d01b676c320",
   "metadata": {},
   "outputs": [],
   "source": [
    "y_test_pred = est.predict(X_test)"
   ]
  },
  {
   "cell_type": "code",
   "execution_count": null,
   "id": "6431cb28-280c-445b-aaf2-1332aa19b0da",
   "metadata": {},
   "outputs": [],
   "source": [
    "import matplotlib.pyplot as plt"
   ]
  },
  {
   "cell_type": "code",
   "execution_count": null,
   "id": "f0607e56-b2db-4ab5-9eb3-ccc5d630c4e1",
   "metadata": {},
   "outputs": [],
   "source": [
    "plt.scatter(y_test, y_test_pred)"
   ]
  },
  {
   "cell_type": "code",
   "execution_count": null,
   "id": "87c21dd1-71dd-48bf-9757-cceedd0cafdd",
   "metadata": {},
   "outputs": [],
   "source": []
  }
 ],
 "metadata": {
  "kernelspec": {
   "display_name": "Python 3 (ipykernel)",
   "language": "python",
   "name": "python3"
  },
  "language_info": {
   "codemirror_mode": {
    "name": "ipython",
    "version": 3
   },
   "file_extension": ".py",
   "mimetype": "text/x-python",
   "name": "python",
   "nbconvert_exporter": "python",
   "pygments_lexer": "ipython3",
   "version": "3.9.13"
  }
 },
 "nbformat": 4,
 "nbformat_minor": 5
}
