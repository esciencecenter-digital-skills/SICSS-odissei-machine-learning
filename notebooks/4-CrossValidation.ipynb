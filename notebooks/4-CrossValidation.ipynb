{
 "cells": [
  {
   "cell_type": "markdown",
   "metadata": {},
   "source": [
    "# Cross validation\n",
    "So far, we have train one model with one parameter setting. Ususally we want to compare different models. For example, we want to see if limiting the depth of the tree prevents overfitting. \n",
    "\n",
    "We don't want to use our test set for parameter optimization, so we can do yet another split, splitting the training data into a training set and validation set, and use the latter for paramater optimization. A more sophisticated way to do this is *cross validation*, here we split our data into N parts, for example `X1, X2, X3`. Then we use `X1+X2` for training and `X3` for validating, `X1+X3` for training and `X2` for validating and `X2+X3` for training and `X1` for validating.\n",
    "\n",
    "### Exercise\n",
    "- Why do we not want to use the test set for parameter optimization?\n",
    "- What are advantages or disadvantages of cross validation over a single train-validation split?\n",
    "\n",
    "Luckily, cross validation is really easy in scikit-learn and requires little coding, especially if we already have the pipeline as we had earlier. Let's make that pipeline again"
   ]
  },
  {
   "cell_type": "code",
   "execution_count": 1,
   "metadata": {},
   "outputs": [],
   "source": [
    "from sklearn.preprocessing import MinMaxScaler\n",
    "from sklearn.tree import DecisionTreeClassifier\n",
    "from sklearn.pipeline import Pipeline\n",
    "from sklearn.model_selection import GridSearchCV\n",
    "import pandas as pd"
   ]
  },
  {
   "cell_type": "code",
   "execution_count": 2,
   "metadata": {},
   "outputs": [],
   "source": [
    "pipe = Pipeline([\n",
    "    ('scale', MinMaxScaler()),\n",
    "    ('model', DecisionTreeClassifier(min_samples_leaf=2)) # Here leave out the parameter that we are going to tune!\n",
    "])"
   ]
  },
  {
   "cell_type": "markdown",
   "metadata": {},
   "source": [
    "Let's see what parameters we could in theory tune:"
   ]
  },
  {
   "cell_type": "code",
   "execution_count": 3,
   "metadata": {},
   "outputs": [
    {
     "data": {
      "text/plain": [
       "{'memory': None,\n",
       " 'steps': [('scale', MinMaxScaler()),\n",
       "  ('model', DecisionTreeClassifier(min_samples_leaf=2))],\n",
       " 'verbose': False,\n",
       " 'scale': MinMaxScaler(),\n",
       " 'model': DecisionTreeClassifier(min_samples_leaf=2),\n",
       " 'scale__clip': False,\n",
       " 'scale__copy': True,\n",
       " 'scale__feature_range': (0, 1),\n",
       " 'model__ccp_alpha': 0.0,\n",
       " 'model__class_weight': None,\n",
       " 'model__criterion': 'gini',\n",
       " 'model__max_depth': None,\n",
       " 'model__max_features': None,\n",
       " 'model__max_leaf_nodes': None,\n",
       " 'model__min_impurity_decrease': 0.0,\n",
       " 'model__min_samples_leaf': 2,\n",
       " 'model__min_samples_split': 2,\n",
       " 'model__min_weight_fraction_leaf': 0.0,\n",
       " 'model__random_state': None,\n",
       " 'model__splitter': 'best'}"
      ]
     },
     "execution_count": 3,
     "metadata": {},
     "output_type": "execute_result"
    }
   ],
   "source": [
    "pipe.get_params()"
   ]
  },
  {
   "cell_type": "markdown",
   "metadata": {},
   "source": [
    "There are many parameters here, but the one we want to very is the tree depth: `model__max_depth`. We try out values ranging from 1 to 15 (which was the tree depth when we did not limit it).\n",
    "\n",
    "We give all the parameters we want to tune, with a list of the possible values, in the `param_grid`. We can also indicate the evaluation metrics that we want to calculate."
   ]
  },
  {
   "cell_type": "code",
   "execution_count": 4,
   "metadata": {},
   "outputs": [],
   "source": [
    "model = GridSearchCV(estimator=pipe,\n",
    "                     cv = 3,\n",
    "                    param_grid = {\n",
    "                        'model__max_depth': range(1,16)\n",
    "                        \n",
    "                    },\n",
    "                    scoring = \"f1\")"
   ]
  },
  {
   "cell_type": "code",
   "execution_count": 5,
   "metadata": {},
   "outputs": [],
   "source": [
    "# Read in our training data again\n",
    "weather_train = pd.read_csv('data/weather_train.csv')\n",
    "features = weather_train.columns[:-1]\n",
    "X = weather_train[features]\n",
    "y = weather_train['BASEL_BBQ_weather']"
   ]
  },
  {
   "cell_type": "code",
   "execution_count": 6,
   "metadata": {},
   "outputs": [
    {
     "data": {
      "text/html": [
       "<style>#sk-container-id-1 {color: black;background-color: white;}#sk-container-id-1 pre{padding: 0;}#sk-container-id-1 div.sk-toggleable {background-color: white;}#sk-container-id-1 label.sk-toggleable__label {cursor: pointer;display: block;width: 100%;margin-bottom: 0;padding: 0.3em;box-sizing: border-box;text-align: center;}#sk-container-id-1 label.sk-toggleable__label-arrow:before {content: \"▸\";float: left;margin-right: 0.25em;color: #696969;}#sk-container-id-1 label.sk-toggleable__label-arrow:hover:before {color: black;}#sk-container-id-1 div.sk-estimator:hover label.sk-toggleable__label-arrow:before {color: black;}#sk-container-id-1 div.sk-toggleable__content {max-height: 0;max-width: 0;overflow: hidden;text-align: left;background-color: #f0f8ff;}#sk-container-id-1 div.sk-toggleable__content pre {margin: 0.2em;color: black;border-radius: 0.25em;background-color: #f0f8ff;}#sk-container-id-1 input.sk-toggleable__control:checked~div.sk-toggleable__content {max-height: 200px;max-width: 100%;overflow: auto;}#sk-container-id-1 input.sk-toggleable__control:checked~label.sk-toggleable__label-arrow:before {content: \"▾\";}#sk-container-id-1 div.sk-estimator input.sk-toggleable__control:checked~label.sk-toggleable__label {background-color: #d4ebff;}#sk-container-id-1 div.sk-label input.sk-toggleable__control:checked~label.sk-toggleable__label {background-color: #d4ebff;}#sk-container-id-1 input.sk-hidden--visually {border: 0;clip: rect(1px 1px 1px 1px);clip: rect(1px, 1px, 1px, 1px);height: 1px;margin: -1px;overflow: hidden;padding: 0;position: absolute;width: 1px;}#sk-container-id-1 div.sk-estimator {font-family: monospace;background-color: #f0f8ff;border: 1px dotted black;border-radius: 0.25em;box-sizing: border-box;margin-bottom: 0.5em;}#sk-container-id-1 div.sk-estimator:hover {background-color: #d4ebff;}#sk-container-id-1 div.sk-parallel-item::after {content: \"\";width: 100%;border-bottom: 1px solid gray;flex-grow: 1;}#sk-container-id-1 div.sk-label:hover label.sk-toggleable__label {background-color: #d4ebff;}#sk-container-id-1 div.sk-serial::before {content: \"\";position: absolute;border-left: 1px solid gray;box-sizing: border-box;top: 0;bottom: 0;left: 50%;z-index: 0;}#sk-container-id-1 div.sk-serial {display: flex;flex-direction: column;align-items: center;background-color: white;padding-right: 0.2em;padding-left: 0.2em;position: relative;}#sk-container-id-1 div.sk-item {position: relative;z-index: 1;}#sk-container-id-1 div.sk-parallel {display: flex;align-items: stretch;justify-content: center;background-color: white;position: relative;}#sk-container-id-1 div.sk-item::before, #sk-container-id-1 div.sk-parallel-item::before {content: \"\";position: absolute;border-left: 1px solid gray;box-sizing: border-box;top: 0;bottom: 0;left: 50%;z-index: -1;}#sk-container-id-1 div.sk-parallel-item {display: flex;flex-direction: column;z-index: 1;position: relative;background-color: white;}#sk-container-id-1 div.sk-parallel-item:first-child::after {align-self: flex-end;width: 50%;}#sk-container-id-1 div.sk-parallel-item:last-child::after {align-self: flex-start;width: 50%;}#sk-container-id-1 div.sk-parallel-item:only-child::after {width: 0;}#sk-container-id-1 div.sk-dashed-wrapped {border: 1px dashed gray;margin: 0 0.4em 0.5em 0.4em;box-sizing: border-box;padding-bottom: 0.4em;background-color: white;}#sk-container-id-1 div.sk-label label {font-family: monospace;font-weight: bold;display: inline-block;line-height: 1.2em;}#sk-container-id-1 div.sk-label-container {text-align: center;}#sk-container-id-1 div.sk-container {/* jupyter's `normalize.less` sets `[hidden] { display: none; }` but bootstrap.min.css set `[hidden] { display: none !important; }` so we also need the `!important` here to be able to override the default hidden behavior on the sphinx rendered scikit-learn.org. See: https://github.com/scikit-learn/scikit-learn/issues/21755 */display: inline-block !important;position: relative;}#sk-container-id-1 div.sk-text-repr-fallback {display: none;}</style><div id=\"sk-container-id-1\" class=\"sk-top-container\"><div class=\"sk-text-repr-fallback\"><pre>GridSearchCV(cv=3,\n",
       "             estimator=Pipeline(steps=[(&#x27;scale&#x27;, MinMaxScaler()),\n",
       "                                       (&#x27;model&#x27;,\n",
       "                                        DecisionTreeClassifier(min_samples_leaf=2))]),\n",
       "             param_grid={&#x27;model__max_depth&#x27;: range(1, 16)}, scoring=&#x27;f1&#x27;)</pre><b>In a Jupyter environment, please rerun this cell to show the HTML representation or trust the notebook. <br />On GitHub, the HTML representation is unable to render, please try loading this page with nbviewer.org.</b></div><div class=\"sk-container\" hidden><div class=\"sk-item sk-dashed-wrapped\"><div class=\"sk-label-container\"><div class=\"sk-label sk-toggleable\"><input class=\"sk-toggleable__control sk-hidden--visually\" id=\"sk-estimator-id-1\" type=\"checkbox\" ><label for=\"sk-estimator-id-1\" class=\"sk-toggleable__label sk-toggleable__label-arrow\">GridSearchCV</label><div class=\"sk-toggleable__content\"><pre>GridSearchCV(cv=3,\n",
       "             estimator=Pipeline(steps=[(&#x27;scale&#x27;, MinMaxScaler()),\n",
       "                                       (&#x27;model&#x27;,\n",
       "                                        DecisionTreeClassifier(min_samples_leaf=2))]),\n",
       "             param_grid={&#x27;model__max_depth&#x27;: range(1, 16)}, scoring=&#x27;f1&#x27;)</pre></div></div></div><div class=\"sk-parallel\"><div class=\"sk-parallel-item\"><div class=\"sk-item\"><div class=\"sk-label-container\"><div class=\"sk-label sk-toggleable\"><input class=\"sk-toggleable__control sk-hidden--visually\" id=\"sk-estimator-id-2\" type=\"checkbox\" ><label for=\"sk-estimator-id-2\" class=\"sk-toggleable__label sk-toggleable__label-arrow\">estimator: Pipeline</label><div class=\"sk-toggleable__content\"><pre>Pipeline(steps=[(&#x27;scale&#x27;, MinMaxScaler()),\n",
       "                (&#x27;model&#x27;, DecisionTreeClassifier(min_samples_leaf=2))])</pre></div></div></div><div class=\"sk-serial\"><div class=\"sk-item\"><div class=\"sk-serial\"><div class=\"sk-item\"><div class=\"sk-estimator sk-toggleable\"><input class=\"sk-toggleable__control sk-hidden--visually\" id=\"sk-estimator-id-3\" type=\"checkbox\" ><label for=\"sk-estimator-id-3\" class=\"sk-toggleable__label sk-toggleable__label-arrow\">MinMaxScaler</label><div class=\"sk-toggleable__content\"><pre>MinMaxScaler()</pre></div></div></div><div class=\"sk-item\"><div class=\"sk-estimator sk-toggleable\"><input class=\"sk-toggleable__control sk-hidden--visually\" id=\"sk-estimator-id-4\" type=\"checkbox\" ><label for=\"sk-estimator-id-4\" class=\"sk-toggleable__label sk-toggleable__label-arrow\">DecisionTreeClassifier</label><div class=\"sk-toggleable__content\"><pre>DecisionTreeClassifier(min_samples_leaf=2)</pre></div></div></div></div></div></div></div></div></div></div></div></div>"
      ],
      "text/plain": [
       "GridSearchCV(cv=3,\n",
       "             estimator=Pipeline(steps=[('scale', MinMaxScaler()),\n",
       "                                       ('model',\n",
       "                                        DecisionTreeClassifier(min_samples_leaf=2))]),\n",
       "             param_grid={'model__max_depth': range(1, 16)}, scoring='f1')"
      ]
     },
     "execution_count": 6,
     "metadata": {},
     "output_type": "execute_result"
    }
   ],
   "source": [
    "# Fit the model\n",
    "model.fit(X,y)"
   ]
  },
  {
   "cell_type": "markdown",
   "metadata": {},
   "source": [
    "We can inspect the results as follows:"
   ]
  },
  {
   "cell_type": "code",
   "execution_count": 7,
   "metadata": {},
   "outputs": [
    {
     "data": {
      "text/html": [
       "<div>\n",
       "<style scoped>\n",
       "    .dataframe tbody tr th:only-of-type {\n",
       "        vertical-align: middle;\n",
       "    }\n",
       "\n",
       "    .dataframe tbody tr th {\n",
       "        vertical-align: top;\n",
       "    }\n",
       "\n",
       "    .dataframe thead th {\n",
       "        text-align: right;\n",
       "    }\n",
       "</style>\n",
       "<table border=\"1\" class=\"dataframe\">\n",
       "  <thead>\n",
       "    <tr style=\"text-align: right;\">\n",
       "      <th></th>\n",
       "      <th>mean_fit_time</th>\n",
       "      <th>std_fit_time</th>\n",
       "      <th>mean_score_time</th>\n",
       "      <th>std_score_time</th>\n",
       "      <th>param_model__max_depth</th>\n",
       "      <th>params</th>\n",
       "      <th>split0_test_score</th>\n",
       "      <th>split1_test_score</th>\n",
       "      <th>split2_test_score</th>\n",
       "      <th>mean_test_score</th>\n",
       "      <th>std_test_score</th>\n",
       "      <th>rank_test_score</th>\n",
       "    </tr>\n",
       "  </thead>\n",
       "  <tbody>\n",
       "    <tr>\n",
       "      <th>1</th>\n",
       "      <td>0.022285</td>\n",
       "      <td>0.000923</td>\n",
       "      <td>0.005987</td>\n",
       "      <td>0.002823</td>\n",
       "      <td>2</td>\n",
       "      <td>{'model__max_depth': 2}</td>\n",
       "      <td>0.697368</td>\n",
       "      <td>0.661290</td>\n",
       "      <td>0.684932</td>\n",
       "      <td>0.681197</td>\n",
       "      <td>0.014964</td>\n",
       "      <td>1</td>\n",
       "    </tr>\n",
       "    <tr>\n",
       "      <th>2</th>\n",
       "      <td>0.026251</td>\n",
       "      <td>0.000957</td>\n",
       "      <td>0.004665</td>\n",
       "      <td>0.000479</td>\n",
       "      <td>3</td>\n",
       "      <td>{'model__max_depth': 3}</td>\n",
       "      <td>0.652778</td>\n",
       "      <td>0.633333</td>\n",
       "      <td>0.696970</td>\n",
       "      <td>0.661027</td>\n",
       "      <td>0.026626</td>\n",
       "      <td>2</td>\n",
       "    </tr>\n",
       "    <tr>\n",
       "      <th>0</th>\n",
       "      <td>0.015956</td>\n",
       "      <td>0.000828</td>\n",
       "      <td>0.005319</td>\n",
       "      <td>0.000472</td>\n",
       "      <td>1</td>\n",
       "      <td>{'model__max_depth': 1}</td>\n",
       "      <td>0.684783</td>\n",
       "      <td>0.654545</td>\n",
       "      <td>0.630435</td>\n",
       "      <td>0.656588</td>\n",
       "      <td>0.022234</td>\n",
       "      <td>3</td>\n",
       "    </tr>\n",
       "    <tr>\n",
       "      <th>4</th>\n",
       "      <td>0.036580</td>\n",
       "      <td>0.003374</td>\n",
       "      <td>0.004322</td>\n",
       "      <td>0.000470</td>\n",
       "      <td>5</td>\n",
       "      <td>{'model__max_depth': 5}</td>\n",
       "      <td>0.629371</td>\n",
       "      <td>0.625954</td>\n",
       "      <td>0.628571</td>\n",
       "      <td>0.627965</td>\n",
       "      <td>0.001459</td>\n",
       "      <td>4</td>\n",
       "    </tr>\n",
       "    <tr>\n",
       "      <th>5</th>\n",
       "      <td>0.039230</td>\n",
       "      <td>0.005298</td>\n",
       "      <td>0.004654</td>\n",
       "      <td>0.000468</td>\n",
       "      <td>6</td>\n",
       "      <td>{'model__max_depth': 6}</td>\n",
       "      <td>0.652482</td>\n",
       "      <td>0.587302</td>\n",
       "      <td>0.606061</td>\n",
       "      <td>0.615281</td>\n",
       "      <td>0.027397</td>\n",
       "      <td>5</td>\n",
       "    </tr>\n",
       "    <tr>\n",
       "      <th>9</th>\n",
       "      <td>0.042220</td>\n",
       "      <td>0.000940</td>\n",
       "      <td>0.004656</td>\n",
       "      <td>0.000469</td>\n",
       "      <td>10</td>\n",
       "      <td>{'model__max_depth': 10}</td>\n",
       "      <td>0.676056</td>\n",
       "      <td>0.504202</td>\n",
       "      <td>0.593750</td>\n",
       "      <td>0.591336</td>\n",
       "      <td>0.070180</td>\n",
       "      <td>6</td>\n",
       "    </tr>\n",
       "    <tr>\n",
       "      <th>6</th>\n",
       "      <td>0.040889</td>\n",
       "      <td>0.004883</td>\n",
       "      <td>0.004322</td>\n",
       "      <td>0.000470</td>\n",
       "      <td>7</td>\n",
       "      <td>{'model__max_depth': 7}</td>\n",
       "      <td>0.622222</td>\n",
       "      <td>0.528926</td>\n",
       "      <td>0.611940</td>\n",
       "      <td>0.587696</td>\n",
       "      <td>0.041768</td>\n",
       "      <td>7</td>\n",
       "    </tr>\n",
       "    <tr>\n",
       "      <th>7</th>\n",
       "      <td>0.043552</td>\n",
       "      <td>0.004042</td>\n",
       "      <td>0.005317</td>\n",
       "      <td>0.000472</td>\n",
       "      <td>8</td>\n",
       "      <td>{'model__max_depth': 8}</td>\n",
       "      <td>0.647887</td>\n",
       "      <td>0.555556</td>\n",
       "      <td>0.558140</td>\n",
       "      <td>0.587194</td>\n",
       "      <td>0.042930</td>\n",
       "      <td>8</td>\n",
       "    </tr>\n",
       "    <tr>\n",
       "      <th>8</th>\n",
       "      <td>0.043539</td>\n",
       "      <td>0.005988</td>\n",
       "      <td>0.004654</td>\n",
       "      <td>0.000470</td>\n",
       "      <td>9</td>\n",
       "      <td>{'model__max_depth': 9}</td>\n",
       "      <td>0.657343</td>\n",
       "      <td>0.512821</td>\n",
       "      <td>0.558140</td>\n",
       "      <td>0.576101</td>\n",
       "      <td>0.060352</td>\n",
       "      <td>9</td>\n",
       "    </tr>\n",
       "    <tr>\n",
       "      <th>10</th>\n",
       "      <td>0.047870</td>\n",
       "      <td>0.003526</td>\n",
       "      <td>0.004653</td>\n",
       "      <td>0.000472</td>\n",
       "      <td>11</td>\n",
       "      <td>{'model__max_depth': 11}</td>\n",
       "      <td>0.611940</td>\n",
       "      <td>0.515625</td>\n",
       "      <td>0.589147</td>\n",
       "      <td>0.572238</td>\n",
       "      <td>0.041098</td>\n",
       "      <td>10</td>\n",
       "    </tr>\n",
       "    <tr>\n",
       "      <th>3</th>\n",
       "      <td>0.031582</td>\n",
       "      <td>0.002617</td>\n",
       "      <td>0.005640</td>\n",
       "      <td>0.001678</td>\n",
       "      <td>4</td>\n",
       "      <td>{'model__max_depth': 4}</td>\n",
       "      <td>0.628571</td>\n",
       "      <td>0.573643</td>\n",
       "      <td>0.512397</td>\n",
       "      <td>0.571537</td>\n",
       "      <td>0.047452</td>\n",
       "      <td>11</td>\n",
       "    </tr>\n",
       "    <tr>\n",
       "      <th>11</th>\n",
       "      <td>0.049224</td>\n",
       "      <td>0.002628</td>\n",
       "      <td>0.004654</td>\n",
       "      <td>0.000470</td>\n",
       "      <td>12</td>\n",
       "      <td>{'model__max_depth': 12}</td>\n",
       "      <td>0.626866</td>\n",
       "      <td>0.496000</td>\n",
       "      <td>0.566929</td>\n",
       "      <td>0.563265</td>\n",
       "      <td>0.053488</td>\n",
       "      <td>12</td>\n",
       "    </tr>\n",
       "    <tr>\n",
       "      <th>14</th>\n",
       "      <td>0.049213</td>\n",
       "      <td>0.001238</td>\n",
       "      <td>0.005650</td>\n",
       "      <td>0.000940</td>\n",
       "      <td>15</td>\n",
       "      <td>{'model__max_depth': 15}</td>\n",
       "      <td>0.601504</td>\n",
       "      <td>0.491803</td>\n",
       "      <td>0.582677</td>\n",
       "      <td>0.558661</td>\n",
       "      <td>0.047897</td>\n",
       "      <td>13</td>\n",
       "    </tr>\n",
       "    <tr>\n",
       "      <th>12</th>\n",
       "      <td>0.052196</td>\n",
       "      <td>0.004183</td>\n",
       "      <td>0.005329</td>\n",
       "      <td>0.000439</td>\n",
       "      <td>13</td>\n",
       "      <td>{'model__max_depth': 13}</td>\n",
       "      <td>0.597222</td>\n",
       "      <td>0.439024</td>\n",
       "      <td>0.595420</td>\n",
       "      <td>0.543889</td>\n",
       "      <td>0.074154</td>\n",
       "      <td>14</td>\n",
       "    </tr>\n",
       "    <tr>\n",
       "      <th>13</th>\n",
       "      <td>0.053177</td>\n",
       "      <td>0.001260</td>\n",
       "      <td>0.006648</td>\n",
       "      <td>0.001244</td>\n",
       "      <td>14</td>\n",
       "      <td>{'model__max_depth': 14}</td>\n",
       "      <td>0.549618</td>\n",
       "      <td>0.523810</td>\n",
       "      <td>0.535433</td>\n",
       "      <td>0.536287</td>\n",
       "      <td>0.010554</td>\n",
       "      <td>15</td>\n",
       "    </tr>\n",
       "  </tbody>\n",
       "</table>\n",
       "</div>"
      ],
      "text/plain": [
       "    mean_fit_time  std_fit_time  mean_score_time  std_score_time  \\\n",
       "1        0.022285      0.000923         0.005987        0.002823   \n",
       "2        0.026251      0.000957         0.004665        0.000479   \n",
       "0        0.015956      0.000828         0.005319        0.000472   \n",
       "4        0.036580      0.003374         0.004322        0.000470   \n",
       "5        0.039230      0.005298         0.004654        0.000468   \n",
       "9        0.042220      0.000940         0.004656        0.000469   \n",
       "6        0.040889      0.004883         0.004322        0.000470   \n",
       "7        0.043552      0.004042         0.005317        0.000472   \n",
       "8        0.043539      0.005988         0.004654        0.000470   \n",
       "10       0.047870      0.003526         0.004653        0.000472   \n",
       "3        0.031582      0.002617         0.005640        0.001678   \n",
       "11       0.049224      0.002628         0.004654        0.000470   \n",
       "14       0.049213      0.001238         0.005650        0.000940   \n",
       "12       0.052196      0.004183         0.005329        0.000439   \n",
       "13       0.053177      0.001260         0.006648        0.001244   \n",
       "\n",
       "   param_model__max_depth                    params  split0_test_score  \\\n",
       "1                       2   {'model__max_depth': 2}           0.697368   \n",
       "2                       3   {'model__max_depth': 3}           0.652778   \n",
       "0                       1   {'model__max_depth': 1}           0.684783   \n",
       "4                       5   {'model__max_depth': 5}           0.629371   \n",
       "5                       6   {'model__max_depth': 6}           0.652482   \n",
       "9                      10  {'model__max_depth': 10}           0.676056   \n",
       "6                       7   {'model__max_depth': 7}           0.622222   \n",
       "7                       8   {'model__max_depth': 8}           0.647887   \n",
       "8                       9   {'model__max_depth': 9}           0.657343   \n",
       "10                     11  {'model__max_depth': 11}           0.611940   \n",
       "3                       4   {'model__max_depth': 4}           0.628571   \n",
       "11                     12  {'model__max_depth': 12}           0.626866   \n",
       "14                     15  {'model__max_depth': 15}           0.601504   \n",
       "12                     13  {'model__max_depth': 13}           0.597222   \n",
       "13                     14  {'model__max_depth': 14}           0.549618   \n",
       "\n",
       "    split1_test_score  split2_test_score  mean_test_score  std_test_score  \\\n",
       "1            0.661290           0.684932         0.681197        0.014964   \n",
       "2            0.633333           0.696970         0.661027        0.026626   \n",
       "0            0.654545           0.630435         0.656588        0.022234   \n",
       "4            0.625954           0.628571         0.627965        0.001459   \n",
       "5            0.587302           0.606061         0.615281        0.027397   \n",
       "9            0.504202           0.593750         0.591336        0.070180   \n",
       "6            0.528926           0.611940         0.587696        0.041768   \n",
       "7            0.555556           0.558140         0.587194        0.042930   \n",
       "8            0.512821           0.558140         0.576101        0.060352   \n",
       "10           0.515625           0.589147         0.572238        0.041098   \n",
       "3            0.573643           0.512397         0.571537        0.047452   \n",
       "11           0.496000           0.566929         0.563265        0.053488   \n",
       "14           0.491803           0.582677         0.558661        0.047897   \n",
       "12           0.439024           0.595420         0.543889        0.074154   \n",
       "13           0.523810           0.535433         0.536287        0.010554   \n",
       "\n",
       "    rank_test_score  \n",
       "1                 1  \n",
       "2                 2  \n",
       "0                 3  \n",
       "4                 4  \n",
       "5                 5  \n",
       "9                 6  \n",
       "6                 7  \n",
       "7                 8  \n",
       "8                 9  \n",
       "10               10  \n",
       "3                11  \n",
       "11               12  \n",
       "14               13  \n",
       "12               14  \n",
       "13               15  "
      ]
     },
     "execution_count": 7,
     "metadata": {},
     "output_type": "execute_result"
    }
   ],
   "source": [
    "cv_results = pd.DataFrame(model.cv_results_)\n",
    "cv_results.sort_values('rank_test_score')"
   ]
  },
  {
   "cell_type": "markdown",
   "metadata": {},
   "source": [
    "This is a lot of information, but it basically tells us for each parameter, the scores for each cross validation splits. By default, this score is the mean accuracy but we could provide a different metric here.\n",
    "\n",
    "We see that using max_tree_depth=2 gives the best mean performance, although the differences are small. We can plot the scores for each value of min_samples_leaf:"
   ]
  },
  {
   "cell_type": "code",
   "execution_count": 8,
   "metadata": {},
   "outputs": [
    {
     "data": {
      "text/plain": [
       "<ErrorbarContainer object of 3 artists>"
      ]
     },
     "execution_count": 8,
     "metadata": {},
     "output_type": "execute_result"
    },
    {
     "data": {
      "image/png": "[encoded data removed]",
      "text/plain": [
       "<Figure size 432x288 with 1 Axes>"
      ]
     },
     "metadata": {
      "needs_background": "light"
     },
     "output_type": "display_data"
    }
   ],
   "source": [
    "import matplotlib.pyplot as plt\n",
    "plt.scatter(cv_results['param_model__max_depth'], cv_results['mean_test_score'])\n",
    "plt.errorbar(cv_results['param_model__max_depth'], cv_results['mean_test_score'], yerr=cv_results['std_test_score'], fmt=' ')"
   ]
  },
  {
   "cell_type": "markdown",
   "metadata": {},
   "source": [
    "There are many more parameters to experiment with, that also control the amount of overfitting.\n",
    "\n",
    "### Exercise: different models\n",
    "1. Look at the sklearn documentation and choose a different model. Create a pipeline, looping over different parameters. What do you find? Can you improve over the DecisionTree?\n",
    "\n",
    "2. Create visualizations to understand the relationship between the parameter values and the model performance. What do you learn from the plots?\n",
    "\n",
    "3. Apply your best model to the test set. Are you confident that the model works well on new data?\n",
    "\n",
    "Bonus exercise:\n",
    "Some machine learning models, such as Random Forests or Linear Regression, allow you to inspect the *feature importance*. Look into the scikit-learn documentation for one of these models and inspect the feature importance. Which feature is the most important to the model?"
   ]
  },
  {
   "cell_type": "markdown",
   "metadata": {},
   "source": [
    "## Plotting different metrics\n",
    "We select the final 'best' model and apply it to our test set. Apart from the f1 score, we can calculate and plot some other metrics."
   ]
  },
  {
   "cell_type": "code",
   "execution_count": 9,
   "metadata": {},
   "outputs": [],
   "source": [
    "weather_test = pd.read_csv('data/weather_test.csv')\n",
    "X_test = weather_test[features]\n",
    "y_test = weather_test['BASEL_BBQ_weather']"
   ]
  },
  {
   "cell_type": "code",
   "execution_count": 10,
   "metadata": {},
   "outputs": [],
   "source": [
    "best_model = model.best_estimator_\n",
    "y_predicted = best_model.predict(X_test)"
   ]
  },
  {
   "cell_type": "code",
   "execution_count": 11,
   "metadata": {},
   "outputs": [],
   "source": [
    "import sklearn.metrics"
   ]
  },
  {
   "cell_type": "code",
   "execution_count": 12,
   "metadata": {},
   "outputs": [
    {
     "data": {
      "text/plain": [
       "<sklearn.metrics._plot.confusion_matrix.ConfusionMatrixDisplay at 0x1e7efa72e20>"
      ]
     },
     "execution_count": 12,
     "metadata": {},
     "output_type": "execute_result"
    },
    {
     "data": {
      "image/png": "[encoded data removed]",
      "text/plain": [
       "<Figure size 432x288 with 2 Axes>"
      ]
     },
     "metadata": {
      "needs_background": "light"
     },
     "output_type": "display_data"
    }
   ],
   "source": [
    "sklearn.metrics.ConfusionMatrixDisplay.from_estimator(best_model, X_test, y_test, cmap='YlGn')"
   ]
  },
  {
   "cell_type": "markdown",
   "metadata": {},
   "source": [
    "We can get a more extensive report on precision, recall and f1:"
   ]
  },
  {
   "cell_type": "code",
   "execution_count": 13,
   "metadata": {},
   "outputs": [
    {
     "name": "stdout",
     "output_type": "stream",
     "text": [
      "              precision    recall  f1-score   support\n",
      "\n",
      "       False       0.90      0.88      0.89       247\n",
      "        True       0.66      0.72      0.69        82\n",
      "\n",
      "    accuracy                           0.84       329\n",
      "   macro avg       0.78      0.80      0.79       329\n",
      "weighted avg       0.84      0.84      0.84       329\n",
      "\n"
     ]
    }
   ],
   "source": [
    "print(sklearn.metrics.classification_report(y_test, y_predicted))"
   ]
  },
  {
   "cell_type": "code",
   "execution_count": 14,
   "metadata": {},
   "outputs": [],
   "source": [
    "y_scores = best_model.predict_proba(X_test)[:,1]\n",
    "precisions, recalls, thresholds = sklearn.metrics.precision_recall_curve(y_test, y_scores)"
   ]
  },
  {
   "cell_type": "markdown",
   "metadata": {},
   "source": [
    "Optional: this does not give us the f1 scores, we can manually calculate them"
   ]
  },
  {
   "cell_type": "code",
   "execution_count": 15,
   "metadata": {},
   "outputs": [],
   "source": [
    "f1 = 2*(precisions*recalls)/(precisions+recalls)"
   ]
  },
  {
   "cell_type": "code",
   "execution_count": 16,
   "metadata": {},
   "outputs": [
    {
     "data": {
      "image/png": "[encoded data removed]",
      "text/plain": [
       "<Figure size 432x288 with 1 Axes>"
      ]
     },
     "metadata": {
      "needs_background": "light"
     },
     "output_type": "display_data"
    }
   ],
   "source": [
    "import matplotlib.pyplot as plt\n",
    "plt.figure()\n",
    "plt.plot(thresholds, precisions[:-1], \"b--\", label=\"Precision\")\n",
    "plt.plot(thresholds, recalls[:-1], \"g-\", label=\"Recall\")\n",
    "plt.plot(thresholds, f1[:-1], \"y-.\", label=\"F1\")\n",
    "plt.xlabel('Threshold')\n",
    "plt.legend()\n",
    "plt.legend(loc=\"lower right\")\n",
    "plt.show()"
   ]
  },
  {
   "cell_type": "code",
   "execution_count": 17,
   "metadata": {},
   "outputs": [
    {
     "data": {
      "text/plain": [
       "<sklearn.metrics._plot.precision_recall_curve.PrecisionRecallDisplay at 0x1e7f28e9a30>"
      ]
     },
     "execution_count": 17,
     "metadata": {},
     "output_type": "execute_result"
    },
    {
     "data": {
      "image/png": "[encoded data removed]",
      "text/plain": [
       "<Figure size 432x288 with 1 Axes>"
      ]
     },
     "metadata": {
      "needs_background": "light"
     },
     "output_type": "display_data"
    }
   ],
   "source": [
    "sklearn.metrics.PrecisionRecallDisplay.from_estimator(best_model, X_test, y_test)"
   ]
  },
  {
   "cell_type": "markdown",
   "metadata": {},
   "source": [
    "**Exercise**:\n",
    "Look at the documentation of [model evaluation in scikit-learn](https://scikit-learn.org/stable/modules/model_evaluation.html#). Are there other metrics than f1 that make sense to calculate for this problem? Apply this metric and explain how you interpret it."
   ]
  },
  {
   "cell_type": "code",
   "execution_count": null,
   "metadata": {},
   "outputs": [],
   "source": []
  }
 ],
 "metadata": {
  "kernelspec": {
   "display_name": "Python 3 (ipykernel)",
   "language": "python",
   "name": "python3"
  },
  "language_info": {
   "codemirror_mode": {
    "name": "ipython",
    "version": 3
   },
   "file_extension": ".py",
   "mimetype": "text/x-python",
   "name": "python",
   "nbconvert_exporter": "python",
   "pygments_lexer": "ipython3",
   "version": "3.9.13"
  }
 },
 "nbformat": 4,
 "nbformat_minor": 4
}
