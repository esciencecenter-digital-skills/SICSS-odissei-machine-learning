{
 "cells": [
  {
   "cell_type": "markdown",
   "metadata": {},
   "source": [
    "# Cross validation\n",
    "So far, we have train one model with one parameter setting. Ususally we want to compare different models. We don't want to use our test set for parameter optimization, so we can do yet another split, splitting the training data into a training set and validation set, and use the latter for paramater optimization. A more sophisticated way to do this is *cross validation*, here we split our data into N parts, for example `X1, X2, X3`. Then we use `X1+X2` for training and `X3` for validating, `X1+X3` for training and `X2` for validating and `X2+X3` for training and `X1` for validating.\n",
    "\n",
    "### Exercise\n",
    "- Why do we not want to use the test set for parameter optimization?\n",
    "- What are advantages or disadvantages of cross validation over a single train-validation split?\n",
    "\n",
    "Luckily, cross validation is really easy in scikit-learn and requires little coding, especially if we already have the pipeline as we had earlier. Let's make that pipeline again"
   ]
  },
  {
   "cell_type": "code",
   "execution_count": 1,
   "metadata": {},
   "outputs": [],
   "source": [
    "from sklearn.preprocessing import MinMaxScaler\n",
    "from sklearn.neighbors import KNeighborsClassifier\n",
    "from sklearn.pipeline import Pipeline\n",
    "from sklearn.model_selection import GridSearchCV\n",
    "import pandas as pd"
   ]
  },
  {
   "cell_type": "code",
   "execution_count": 2,
   "metadata": {},
   "outputs": [],
   "source": [
    "pipe = Pipeline([\n",
    "    ('scale', MinMaxScaler()),\n",
    "    ('model', KNeighborsClassifier()) # Now we leave out the parameter that we are going to tune!\n",
    "])"
   ]
  },
  {
   "cell_type": "markdown",
   "metadata": {},
   "source": [
    "Let's see what parameters we could in theory tune:"
   ]
  },
  {
   "cell_type": "code",
   "execution_count": 3,
   "metadata": {},
   "outputs": [
    {
     "data": {
      "text/plain": [
       "{'memory': None,\n",
       " 'steps': [('scale', MinMaxScaler()), ('model', KNeighborsClassifier())],\n",
       " 'verbose': False,\n",
       " 'scale': MinMaxScaler(),\n",
       " 'model': KNeighborsClassifier(),\n",
       " 'scale__clip': False,\n",
       " 'scale__copy': True,\n",
       " 'scale__feature_range': (0, 1),\n",
       " 'model__algorithm': 'auto',\n",
       " 'model__leaf_size': 30,\n",
       " 'model__metric': 'minkowski',\n",
       " 'model__metric_params': None,\n",
       " 'model__n_jobs': None,\n",
       " 'model__n_neighbors': 5,\n",
       " 'model__p': 2,\n",
       " 'model__weights': 'uniform'}"
      ]
     },
     "execution_count": 3,
     "metadata": {},
     "output_type": "execute_result"
    }
   ],
   "source": [
    "pipe.get_params()"
   ]
  },
  {
   "cell_type": "markdown",
   "metadata": {},
   "source": [
    "There are many parameters here, but the one we are interested is the number of neighbors, denoted here as: `model__n_neighbors` (with default value 5).\n",
    "\n",
    "We give all the parameters we want to tune, with a list of the possible values, in the `param_grid`:"
   ]
  },
  {
   "cell_type": "code",
   "execution_count": 4,
   "metadata": {},
   "outputs": [],
   "source": [
    "model = GridSearchCV(estimator=pipe,\n",
    "                     cv = 3,\n",
    "                    param_grid = {\n",
    "                        'model__n_neighbors': [1,2,3,4,5,6,7,8,9,10]\n",
    "                    })"
   ]
  },
  {
   "cell_type": "code",
   "execution_count": 5,
   "metadata": {},
   "outputs": [],
   "source": [
    "# Read in our training data again\n",
    "weather_train = pd.read_csv('data/weather_train.csv')\n",
    "features = weather_train.columns[1:]\n",
    "X = weather_train[features]\n",
    "y = weather_train['MONTH']"
   ]
  },
  {
   "cell_type": "code",
   "execution_count": 6,
   "metadata": {},
   "outputs": [
    {
     "data": {
      "text/plain": [
       "GridSearchCV(cv=3,\n",
       "             estimator=Pipeline(steps=[('scale', MinMaxScaler()),\n",
       "                                       ('model', KNeighborsClassifier())]),\n",
       "             param_grid={'model__n_neighbors': [1, 2, 3, 4, 5, 6, 7, 8, 9, 10]})"
      ]
     },
     "execution_count": 6,
     "metadata": {},
     "output_type": "execute_result"
    }
   ],
   "source": [
    "# Fit the model\n",
    "model.fit(X,y)"
   ]
  },
  {
   "cell_type": "markdown",
   "metadata": {},
   "source": [
    "We can inspect the results as follows:"
   ]
  },
  {
   "cell_type": "code",
   "execution_count": 12,
   "metadata": {},
   "outputs": [
    {
     "data": {
      "text/html": [
       "<div>\n",
       "<style scoped>\n",
       "    .dataframe tbody tr th:only-of-type {\n",
       "        vertical-align: middle;\n",
       "    }\n",
       "\n",
       "    .dataframe tbody tr th {\n",
       "        vertical-align: top;\n",
       "    }\n",
       "\n",
       "    .dataframe thead th {\n",
       "        text-align: right;\n",
       "    }\n",
       "</style>\n",
       "<table border=\"1\" class=\"dataframe\">\n",
       "  <thead>\n",
       "    <tr style=\"text-align: right;\">\n",
       "      <th></th>\n",
       "      <th>mean_fit_time</th>\n",
       "      <th>std_fit_time</th>\n",
       "      <th>mean_score_time</th>\n",
       "      <th>std_score_time</th>\n",
       "      <th>param_model__n_neighbors</th>\n",
       "      <th>params</th>\n",
       "      <th>split0_test_score</th>\n",
       "      <th>split1_test_score</th>\n",
       "      <th>split2_test_score</th>\n",
       "      <th>mean_test_score</th>\n",
       "      <th>std_test_score</th>\n",
       "      <th>rank_test_score</th>\n",
       "    </tr>\n",
       "  </thead>\n",
       "  <tbody>\n",
       "    <tr>\n",
       "      <th>0</th>\n",
       "      <td>0.023683</td>\n",
       "      <td>0.009709</td>\n",
       "      <td>0.049017</td>\n",
       "      <td>0.011197</td>\n",
       "      <td>1</td>\n",
       "      <td>{'model__n_neighbors': 1}</td>\n",
       "      <td>0.535156</td>\n",
       "      <td>0.607843</td>\n",
       "      <td>0.639216</td>\n",
       "      <td>0.594072</td>\n",
       "      <td>0.043584</td>\n",
       "      <td>7</td>\n",
       "    </tr>\n",
       "    <tr>\n",
       "      <th>1</th>\n",
       "      <td>0.015554</td>\n",
       "      <td>0.005677</td>\n",
       "      <td>0.019538</td>\n",
       "      <td>0.000799</td>\n",
       "      <td>2</td>\n",
       "      <td>{'model__n_neighbors': 2}</td>\n",
       "      <td>0.527344</td>\n",
       "      <td>0.537255</td>\n",
       "      <td>0.600000</td>\n",
       "      <td>0.554866</td>\n",
       "      <td>0.032170</td>\n",
       "      <td>10</td>\n",
       "    </tr>\n",
       "    <tr>\n",
       "      <th>2</th>\n",
       "      <td>0.010553</td>\n",
       "      <td>0.000168</td>\n",
       "      <td>0.019041</td>\n",
       "      <td>0.001128</td>\n",
       "      <td>3</td>\n",
       "      <td>{'model__n_neighbors': 3}</td>\n",
       "      <td>0.546875</td>\n",
       "      <td>0.505882</td>\n",
       "      <td>0.631373</td>\n",
       "      <td>0.561377</td>\n",
       "      <td>0.052247</td>\n",
       "      <td>9</td>\n",
       "    </tr>\n",
       "    <tr>\n",
       "      <th>3</th>\n",
       "      <td>0.010378</td>\n",
       "      <td>0.000198</td>\n",
       "      <td>0.018876</td>\n",
       "      <td>0.000066</td>\n",
       "      <td>4</td>\n",
       "      <td>{'model__n_neighbors': 4}</td>\n",
       "      <td>0.601562</td>\n",
       "      <td>0.564706</td>\n",
       "      <td>0.666667</td>\n",
       "      <td>0.610978</td>\n",
       "      <td>0.042154</td>\n",
       "      <td>1</td>\n",
       "    </tr>\n",
       "    <tr>\n",
       "      <th>4</th>\n",
       "      <td>0.010378</td>\n",
       "      <td>0.000152</td>\n",
       "      <td>0.019501</td>\n",
       "      <td>0.000424</td>\n",
       "      <td>5</td>\n",
       "      <td>{'model__n_neighbors': 5}</td>\n",
       "      <td>0.601562</td>\n",
       "      <td>0.556863</td>\n",
       "      <td>0.635294</td>\n",
       "      <td>0.597906</td>\n",
       "      <td>0.032124</td>\n",
       "      <td>5</td>\n",
       "    </tr>\n",
       "    <tr>\n",
       "      <th>5</th>\n",
       "      <td>0.010759</td>\n",
       "      <td>0.000494</td>\n",
       "      <td>0.019565</td>\n",
       "      <td>0.000445</td>\n",
       "      <td>6</td>\n",
       "      <td>{'model__n_neighbors': 6}</td>\n",
       "      <td>0.582031</td>\n",
       "      <td>0.580392</td>\n",
       "      <td>0.643137</td>\n",
       "      <td>0.601854</td>\n",
       "      <td>0.029200</td>\n",
       "      <td>2</td>\n",
       "    </tr>\n",
       "    <tr>\n",
       "      <th>6</th>\n",
       "      <td>0.010254</td>\n",
       "      <td>0.000073</td>\n",
       "      <td>0.019030</td>\n",
       "      <td>0.000232</td>\n",
       "      <td>7</td>\n",
       "      <td>{'model__n_neighbors': 7}</td>\n",
       "      <td>0.589844</td>\n",
       "      <td>0.572549</td>\n",
       "      <td>0.627451</td>\n",
       "      <td>0.596615</td>\n",
       "      <td>0.022919</td>\n",
       "      <td>6</td>\n",
       "    </tr>\n",
       "    <tr>\n",
       "      <th>7</th>\n",
       "      <td>0.010380</td>\n",
       "      <td>0.000223</td>\n",
       "      <td>0.019622</td>\n",
       "      <td>0.000661</td>\n",
       "      <td>8</td>\n",
       "      <td>{'model__n_neighbors': 8}</td>\n",
       "      <td>0.605469</td>\n",
       "      <td>0.580392</td>\n",
       "      <td>0.619608</td>\n",
       "      <td>0.601823</td>\n",
       "      <td>0.016216</td>\n",
       "      <td>3</td>\n",
       "    </tr>\n",
       "    <tr>\n",
       "      <th>8</th>\n",
       "      <td>0.010456</td>\n",
       "      <td>0.000168</td>\n",
       "      <td>0.018955</td>\n",
       "      <td>0.000140</td>\n",
       "      <td>9</td>\n",
       "      <td>{'model__n_neighbors': 9}</td>\n",
       "      <td>0.609375</td>\n",
       "      <td>0.545098</td>\n",
       "      <td>0.600000</td>\n",
       "      <td>0.584824</td>\n",
       "      <td>0.028350</td>\n",
       "      <td>8</td>\n",
       "    </tr>\n",
       "    <tr>\n",
       "      <th>9</th>\n",
       "      <td>0.010500</td>\n",
       "      <td>0.000278</td>\n",
       "      <td>0.019090</td>\n",
       "      <td>0.000052</td>\n",
       "      <td>10</td>\n",
       "      <td>{'model__n_neighbors': 10}</td>\n",
       "      <td>0.640625</td>\n",
       "      <td>0.549020</td>\n",
       "      <td>0.611765</td>\n",
       "      <td>0.600470</td>\n",
       "      <td>0.038241</td>\n",
       "      <td>4</td>\n",
       "    </tr>\n",
       "  </tbody>\n",
       "</table>\n",
       "</div>"
      ],
      "text/plain": [
       "   mean_fit_time  std_fit_time  mean_score_time  std_score_time  \\\n",
       "0       0.023683      0.009709         0.049017        0.011197   \n",
       "1       0.015554      0.005677         0.019538        0.000799   \n",
       "2       0.010553      0.000168         0.019041        0.001128   \n",
       "3       0.010378      0.000198         0.018876        0.000066   \n",
       "4       0.010378      0.000152         0.019501        0.000424   \n",
       "5       0.010759      0.000494         0.019565        0.000445   \n",
       "6       0.010254      0.000073         0.019030        0.000232   \n",
       "7       0.010380      0.000223         0.019622        0.000661   \n",
       "8       0.010456      0.000168         0.018955        0.000140   \n",
       "9       0.010500      0.000278         0.019090        0.000052   \n",
       "\n",
       "  param_model__n_neighbors                      params  split0_test_score  \\\n",
       "0                        1   {'model__n_neighbors': 1}           0.535156   \n",
       "1                        2   {'model__n_neighbors': 2}           0.527344   \n",
       "2                        3   {'model__n_neighbors': 3}           0.546875   \n",
       "3                        4   {'model__n_neighbors': 4}           0.601562   \n",
       "4                        5   {'model__n_neighbors': 5}           0.601562   \n",
       "5                        6   {'model__n_neighbors': 6}           0.582031   \n",
       "6                        7   {'model__n_neighbors': 7}           0.589844   \n",
       "7                        8   {'model__n_neighbors': 8}           0.605469   \n",
       "8                        9   {'model__n_neighbors': 9}           0.609375   \n",
       "9                       10  {'model__n_neighbors': 10}           0.640625   \n",
       "\n",
       "   split1_test_score  split2_test_score  mean_test_score  std_test_score  \\\n",
       "0           0.607843           0.639216         0.594072        0.043584   \n",
       "1           0.537255           0.600000         0.554866        0.032170   \n",
       "2           0.505882           0.631373         0.561377        0.052247   \n",
       "3           0.564706           0.666667         0.610978        0.042154   \n",
       "4           0.556863           0.635294         0.597906        0.032124   \n",
       "5           0.580392           0.643137         0.601854        0.029200   \n",
       "6           0.572549           0.627451         0.596615        0.022919   \n",
       "7           0.580392           0.619608         0.601823        0.016216   \n",
       "8           0.545098           0.600000         0.584824        0.028350   \n",
       "9           0.549020           0.611765         0.600470        0.038241   \n",
       "\n",
       "   rank_test_score  \n",
       "0                7  \n",
       "1               10  \n",
       "2                9  \n",
       "3                1  \n",
       "4                5  \n",
       "5                2  \n",
       "6                6  \n",
       "7                3  \n",
       "8                8  \n",
       "9                4  "
      ]
     },
     "execution_count": 12,
     "metadata": {},
     "output_type": "execute_result"
    }
   ],
   "source": [
    "cv_results = pd.DataFrame(model.cv_results_)\n",
    "cv_results"
   ]
  },
  {
   "cell_type": "markdown",
   "metadata": {},
   "source": [
    "This is a lot of information, but it basically tells us for each parameter, the scores for each cross validation splits. By default, this score is the mean accuracy but we could provide a different metric here.\n",
    "\n",
    "We see that k=4 gives the best performance, although the scores are quite far apart. We can plot the scores for each value of k:"
   ]
  },
  {
   "cell_type": "code",
   "execution_count": 22,
   "metadata": {},
   "outputs": [
    {
     "data": {
      "text/plain": [
       "<ErrorbarContainer object of 3 artists>"
      ]
     },
     "execution_count": 22,
     "metadata": {},
     "output_type": "execute_result"
    },
    {
     "data": {
      "image/png": "[encoded data removed]",
      "text/plain": [
       "<Figure size 432x288 with 1 Axes>"
      ]
     },
     "metadata": {
      "needs_background": "light"
     },
     "output_type": "display_data"
    }
   ],
   "source": [
    "import matplotlib.pyplot as plt\n",
    "plt.scatter(cv_results['param_model__n_neighbors'], cv_results['mean_test_score'])\n",
    "plt.errorbar(cv_results['param_model__n_neighbors'], cv_results['mean_test_score'], yerr=cv_results['std_test_score'], fmt=' ')"
   ]
  },
  {
   "cell_type": "markdown",
   "metadata": {},
   "source": [
    "### Exercise: different models\n",
    "1. Look at the sklearn documentation and choose a different model. Create a pipeline, looping over different parameters. What do you find? Can you improve over the KNeighbors Classifier?\n",
    "\n",
    "2. Create visualizations to understand the relationship between the parameter values and the model performance. What do you learn from the plots?\n",
    "\n",
    "3. Apply your best model to the test set. Are you confident that the model works well on new data?\n",
    "\n",
    "Bonus exercise 1:\n",
    "Look at the documentation of [model evaluation in scikit-learn](https://scikit-learn.org/stable/modules/model_evaluation.html#). Are there other metrics than accuaracy that make sense to calculate for this problem? Apply this metric and explain how you interpret it.\n",
    "\n",
    "Bonus exercise 2:\n",
    "Some machine learning models, such as Random Forests or Linear Regression, allow you to inspect the *feature importance*. Look into the scikit-learn documentation for one of these models and inspect the feature importance. Which feature is the most important to the model?"
   ]
  },
  {
   "cell_type": "code",
   "execution_count": null,
   "metadata": {},
   "outputs": [],
   "source": []
  }
 ],
 "metadata": {
  "kernelspec": {
   "display_name": "Python [conda env:ml]",
   "language": "python",
   "name": "conda-env-ml-py"
  },
  "language_info": {
   "codemirror_mode": {
    "name": "ipython",
    "version": 3
   },
   "file_extension": ".py",
   "mimetype": "text/x-python",
   "name": "python",
   "nbconvert_exporter": "python",
   "pygments_lexer": "ipython3",
   "version": "3.7.10"
  }
 },
 "nbformat": 4,
 "nbformat_minor": 4
}
